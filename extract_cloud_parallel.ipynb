{
 "cells": [
  {
   "cell_type": "markdown",
   "metadata": {},
   "source": [
    "## Extract cloud image"
   ]
  },
  {
   "cell_type": "code",
   "execution_count": 1,
   "metadata": {},
   "outputs": [
    {
     "data": {
      "text/html": [
       "<div>\n",
       "<style scoped>\n",
       "    .dataframe tbody tr th:only-of-type {\n",
       "        vertical-align: middle;\n",
       "    }\n",
       "\n",
       "    .dataframe tbody tr th {\n",
       "        vertical-align: top;\n",
       "    }\n",
       "\n",
       "    .dataframe thead th {\n",
       "        text-align: right;\n",
       "    }\n",
       "</style>\n",
       "<table border=\"1\" class=\"dataframe\">\n",
       "  <thead>\n",
       "    <tr style=\"text-align: right;\">\n",
       "      <th></th>\n",
       "      <th>customer</th>\n",
       "      <th>lat</th>\n",
       "      <th>lng</th>\n",
       "      <th>row_idx_TIFF</th>\n",
       "      <th>col_idx_TIFF</th>\n",
       "      <th>lat_TIFF</th>\n",
       "      <th>lng_TIFF</th>\n",
       "    </tr>\n",
       "  </thead>\n",
       "  <tbody>\n",
       "    <tr>\n",
       "      <th>0</th>\n",
       "      <td>ee_building</td>\n",
       "      <td>13.736774</td>\n",
       "      <td>100.532122</td>\n",
       "      <td>847</td>\n",
       "      <td>864</td>\n",
       "      <td>13.736502</td>\n",
       "      <td>100.52990</td>\n",
       "    </tr>\n",
       "    <tr>\n",
       "      <th>1</th>\n",
       "      <td>FN_huahin</td>\n",
       "      <td>12.666830</td>\n",
       "      <td>99.952905</td>\n",
       "      <td>908</td>\n",
       "      <td>832</td>\n",
       "      <td>12.662679</td>\n",
       "      <td>99.95509</td>\n",
       "    </tr>\n",
       "  </tbody>\n",
       "</table>\n",
       "</div>"
      ],
      "text/plain": [
       "      customer        lat         lng  row_idx_TIFF  col_idx_TIFF   lat_TIFF  \\\n",
       "0  ee_building  13.736774  100.532122           847           864  13.736502   \n",
       "1    FN_huahin  12.666830   99.952905           908           832  12.662679   \n",
       "\n",
       "    lng_TIFF  \n",
       "0  100.52990  \n",
       "1   99.95509  "
      ]
     },
     "execution_count": 1,
     "metadata": {},
     "output_type": "execute_result"
    }
   ],
   "source": [
    "import pandas as pd\n",
    "import numpy as np\n",
    "import os\n",
    "from datetime import datetime, timedelta\n",
    "from PIL import Image\n",
    "\n",
    "processed_customers_metadata_df = pd.read_csv(\"configs/processed_customers_metadata.csv\")\n",
    "processed_customers_metadata_df"
   ]
  },
  {
   "cell_type": "code",
   "execution_count": 7,
   "metadata": {},
   "outputs": [
    {
     "name": "stderr",
     "output_type": "stream",
     "text": [
      "/var/folders/6m/8y18j89n795_15zj80c2rjb40000gn/T/ipykernel_70887/1717047557.py:22: FutureWarning: The behavior of DataFrame concatenation with empty or all-NA entries is deprecated. In a future version, this will no longer exclude empty or all-NA columns when determining the result dtypes. To retain the old behavior, exclude the relevant entries before the concat operation.\n",
      "  collected_df = pd.concat([collected_df, df_1file], ignore_index=True)\n"
     ]
    }
   ],
   "source": [
    "collected_df = pd.DataFrame(columns=['customer', 'Datetime', 'cloud_index'])\n",
    "k = 0\n",
    "ch = 0\n",
    "image_path = './cloud_images'\n",
    "cloud_image_list = sorted(os.listdir(image_path))\n",
    "cloud_image_list \n",
    "\n",
    "for filename in cloud_image_list :\n",
    "    I = Image.open(os.path.join(image_path, filename))\n",
    "    imarray = np.array(I)\n",
    "    time = datetime.strptime(filename.split('_')[-1].split(\".\")[0], '%Y%m%d%H%M') + timedelta(hours=7)\n",
    "\n",
    "    \n",
    "    cloud_index = imarray[processed_customers_metadata_df['row_idx_TIFF'], processed_customers_metadata_df['col_idx_TIFF'], ch] / 255\n",
    "    df_1file = pd.DataFrame({\n",
    "        'customer': processed_customers_metadata_df['customer'],\n",
    "        'Datetime': time,\n",
    "        'cloud_index': cloud_index\n",
    "    })\n",
    "    df_1file['Datetime'] = df_1file['Datetime'].dt.tz_localize(\"Asia/Bangkok\")\n",
    "        \n",
    "    collected_df = pd.concat([collected_df, df_1file], ignore_index=True)\n"
   ]
  },
  {
   "cell_type": "markdown",
   "metadata": {},
   "source": [
    "## Save output separately for each customer"
   ]
  },
  {
   "cell_type": "code",
   "execution_count": 9,
   "metadata": {},
   "outputs": [],
   "source": [
    "for customer in processed_customers_metadata_df['customer'].unique():\n",
    "    customer_df = collected_df[collected_df['customer']==customer]\n",
    "    customer_df.to_csv(f\"extracted_cloud_output/{customer}_extracted_cloud.csv\", index=False)"
   ]
  },
  {
   "cell_type": "code",
   "execution_count": null,
   "metadata": {},
   "outputs": [],
   "source": []
  }
 ],
 "metadata": {
  "kernelspec": {
   "display_name": "base",
   "language": "python",
   "name": "python3"
  },
  "language_info": {
   "codemirror_mode": {
    "name": "ipython",
    "version": 3
   },
   "file_extension": ".py",
   "mimetype": "text/x-python",
   "name": "python",
   "nbconvert_exporter": "python",
   "pygments_lexer": "ipython3",
   "version": "3.11.4"
  }
 },
 "nbformat": 4,
 "nbformat_minor": 2
}
