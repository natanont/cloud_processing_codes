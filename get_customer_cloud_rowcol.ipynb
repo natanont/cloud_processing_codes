{
 "cells": [
  {
   "cell_type": "markdown",
   "metadata": {},
   "source": [
    "# Process metadata (row-col)"
   ]
  },
  {
   "cell_type": "markdown",
   "metadata": {},
   "source": [
    "## Overview of the Code\n",
    "\n",
    "## Purpose\n",
    "The code matches user-provided latitude and longitude data with the closest reference latitude and longitude values from separate datasets. This is typically useful for mapping user locations to predefined grid points, such as in geographic or environmental data processing.\n",
    "\n",
    "## Input\n",
    "1. **`ref_lat_df`**: A DataFrame containing reference latitude values (`LAT_fromcloudimage.csv`).\n",
    "2. **`ref_lng_df`**: A DataFrame containing reference longitude values (`LON_fromcloudimage.csv`).\n",
    "3. **`customers_metadata_df`**: A DataFrame containing user latitude and longitude values (`customers_metadata.csv`).\n",
    "\n",
    "## Output\n",
    "1. **`processed_customers_metadata_df`**: A DataFrame containing the original user data with additional columns for the closest matching reference latitude and longitude indices and values.\n",
    "2. The resulting DataFrame is saved to `processed_customers_metadata.csv`.\n",
    "\n",
    "## Process\n",
    "1. **Finding Closest Latitude and Longitude**:\n",
    "   - For each user latitude, find the index of the closest reference latitude.\n",
    "   - For each user longitude, find the index of the closest reference longitude.\n",
    "2. **Appending Closest Matches**:\n",
    "   - Append the closest latitude and longitude values and their indices to the user DataFrame.\n",
    "3. **Saving the Result**:\n",
    "   - Save the augmented user DataFrame to a CSV file.\n",
    "\n",
    "## Functions\n",
    "1. **`find_closest_lat`**: Finds the index of the closest latitude in the reference DataFrame.\n",
    "2. **`find_closest_lng`**: Finds the index of the closest longitude in the reference DataFrame.\n",
    "3. **`find_closest_match`**: Finds the closest matching value in a given DataFrame.\n",
    "4. **`gen_plant_metadata`**: Generates a DataFrame with additional metadata for user latitudes and longitudes.\n"
   ]
  },
  {
   "cell_type": "code",
   "execution_count": 1,
   "metadata": {},
   "outputs": [],
   "source": [
    "import numpy as np\n",
    "import pandas as pd\n",
    "def find_closest_lat(ref_lat_df, user_df):\n",
    "        lat = ref_lat_df['lat']  \n",
    "        LAT = user_df['lat'] \n",
    "\n",
    "        return (np.abs(LAT - lat)).argmin()\n",
    "\n",
    "def find_closest_lng(ref_lng_df, user_df):\n",
    "        lng = ref_lng_df['lng']\n",
    "        LNG = user_df['lng']\n",
    "\n",
    "        return (np.abs(LNG - lng)).argmin()\n",
    "\n",
    "def find_closest_match(val_to_find, df_based):\n",
    "        closest_val = df_based.iloc[(df_based - val_to_find).abs().argmin()]\n",
    "        return closest_val\n",
    "\n",
    "\n",
    "def gen_plant_metadata(user_df, ref_lat_df, ref_lng_df): \n",
    "        user_out_df = user_df.copy()\n",
    "        user_out_df['row_idx_TIFF'] = user_out_df.apply(lambda x: find_closest_lat(ref_lat_df, x), axis=1)\n",
    "        user_out_df['col_idx_TIFF'] = user_out_df.apply(lambda x: find_closest_lng(ref_lng_df, x), axis=1)\n",
    "\n",
    "        user_out_df['lat_TIFF'] = user_out_df['lat'].apply(lambda x: find_closest_match(x, ref_lat_df['lat']))\n",
    "        user_out_df['lng_TIFF'] = user_out_df['lng'].apply(lambda x: find_closest_match(x, ref_lng_df['lng']))\n",
    "        return user_out_df"
   ]
  },
  {
   "cell_type": "code",
   "execution_count": 4,
   "metadata": {},
   "outputs": [],
   "source": [
    "ref_lat_df = pd.read_csv(\"configs/LAT_fromcloudimage.csv\")\n",
    "ref_lng_df = pd.read_csv(\"configs/LON_fromcloudimage.csv\")"
   ]
  },
  {
   "cell_type": "code",
   "execution_count": 8,
   "metadata": {},
   "outputs": [
    {
     "data": {
      "text/html": [
       "<div>\n",
       "<style scoped>\n",
       "    .dataframe tbody tr th:only-of-type {\n",
       "        vertical-align: middle;\n",
       "    }\n",
       "\n",
       "    .dataframe tbody tr th {\n",
       "        vertical-align: top;\n",
       "    }\n",
       "\n",
       "    .dataframe thead th {\n",
       "        text-align: right;\n",
       "    }\n",
       "</style>\n",
       "<table border=\"1\" class=\"dataframe\">\n",
       "  <thead>\n",
       "    <tr style=\"text-align: right;\">\n",
       "      <th></th>\n",
       "      <th>customer</th>\n",
       "      <th>lat</th>\n",
       "      <th>lng</th>\n",
       "    </tr>\n",
       "  </thead>\n",
       "  <tbody>\n",
       "    <tr>\n",
       "      <th>0</th>\n",
       "      <td>ee_building</td>\n",
       "      <td>13.736774</td>\n",
       "      <td>100.532122</td>\n",
       "    </tr>\n",
       "    <tr>\n",
       "      <th>1</th>\n",
       "      <td>FN_huahin</td>\n",
       "      <td>12.666830</td>\n",
       "      <td>99.952905</td>\n",
       "    </tr>\n",
       "  </tbody>\n",
       "</table>\n",
       "</div>"
      ],
      "text/plain": [
       "      customer        lat         lng\n",
       "0  ee_building  13.736774  100.532122\n",
       "1    FN_huahin  12.666830   99.952905"
      ]
     },
     "execution_count": 8,
     "metadata": {},
     "output_type": "execute_result"
    }
   ],
   "source": [
    "customers_metadata_df = pd.read_csv(\"configs/customers_metadata.csv\")\n",
    "customers_metadata_df"
   ]
  },
  {
   "cell_type": "code",
   "execution_count": 9,
   "metadata": {},
   "outputs": [
    {
     "data": {
      "text/html": [
       "<div>\n",
       "<style scoped>\n",
       "    .dataframe tbody tr th:only-of-type {\n",
       "        vertical-align: middle;\n",
       "    }\n",
       "\n",
       "    .dataframe tbody tr th {\n",
       "        vertical-align: top;\n",
       "    }\n",
       "\n",
       "    .dataframe thead th {\n",
       "        text-align: right;\n",
       "    }\n",
       "</style>\n",
       "<table border=\"1\" class=\"dataframe\">\n",
       "  <thead>\n",
       "    <tr style=\"text-align: right;\">\n",
       "      <th></th>\n",
       "      <th>customer</th>\n",
       "      <th>lat</th>\n",
       "      <th>lng</th>\n",
       "      <th>row_idx_TIFF</th>\n",
       "      <th>col_idx_TIFF</th>\n",
       "      <th>lat_TIFF</th>\n",
       "      <th>lng_TIFF</th>\n",
       "    </tr>\n",
       "  </thead>\n",
       "  <tbody>\n",
       "    <tr>\n",
       "      <th>0</th>\n",
       "      <td>ee_building</td>\n",
       "      <td>13.736774</td>\n",
       "      <td>100.532122</td>\n",
       "      <td>847</td>\n",
       "      <td>864</td>\n",
       "      <td>13.736502</td>\n",
       "      <td>100.52990</td>\n",
       "    </tr>\n",
       "    <tr>\n",
       "      <th>1</th>\n",
       "      <td>FN_huahin</td>\n",
       "      <td>12.666830</td>\n",
       "      <td>99.952905</td>\n",
       "      <td>908</td>\n",
       "      <td>832</td>\n",
       "      <td>12.662679</td>\n",
       "      <td>99.95509</td>\n",
       "    </tr>\n",
       "  </tbody>\n",
       "</table>\n",
       "</div>"
      ],
      "text/plain": [
       "      customer        lat         lng  row_idx_TIFF  col_idx_TIFF   lat_TIFF  \\\n",
       "0  ee_building  13.736774  100.532122           847           864  13.736502   \n",
       "1    FN_huahin  12.666830   99.952905           908           832  12.662679   \n",
       "\n",
       "    lng_TIFF  \n",
       "0  100.52990  \n",
       "1   99.95509  "
      ]
     },
     "execution_count": 9,
     "metadata": {},
     "output_type": "execute_result"
    }
   ],
   "source": [
    "processed_customers_metadata_df = gen_plant_metadata(customers_metadata_df, ref_lat_df, ref_lng_df)\n",
    "processed_customers_metadata_df"
   ]
  },
  {
   "cell_type": "code",
   "execution_count": 10,
   "metadata": {},
   "outputs": [],
   "source": [
    "processed_customers_metadata_df.to_csv(\"configs/processed_customers_metadata.csv\", index=False)"
   ]
  }
 ],
 "metadata": {
  "kernelspec": {
   "display_name": "base",
   "language": "python",
   "name": "python3"
  },
  "language_info": {
   "codemirror_mode": {
    "name": "ipython",
    "version": 3
   },
   "file_extension": ".py",
   "mimetype": "text/x-python",
   "name": "python",
   "nbconvert_exporter": "python",
   "pygments_lexer": "ipython3",
   "version": "3.11.4"
  }
 },
 "nbformat": 4,
 "nbformat_minor": 2
}
